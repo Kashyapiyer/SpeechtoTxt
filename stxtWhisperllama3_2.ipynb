{
  "cells": [
    {
      "cell_type": "markdown",
      "source": [
        "# **Exploration of convesational flow using Whisper +Llama3.2**"
      ],
      "metadata": {
        "id": "sV-enYkepyYt"
      }
    },
    {
      "cell_type": "code",
      "execution_count": 1,
      "metadata": {
        "id": "8Jdqe3hKfqVu"
      },
      "outputs": [],
      "source": [
        "!pip install -q -r requirementswh.txt"
      ]
    },
    {
      "cell_type": "code",
      "execution_count": 2,
      "metadata": {
        "colab": {
          "base_uri": "https://localhost:8080/"
        },
        "id": "wu9tRtM8fMZ2",
        "outputId": "41bd9eb8-65f1-40f1-b082-1fce8ef5cf35"
      },
      "outputs": [
        {
          "output_type": "stream",
          "name": "stdout",
          "text": [
            "  Preparing metadata (setup.py) ... \u001b[?25l\u001b[?25hdone\n"
          ]
        }
      ],
      "source": [
        "!pip install --q git+https://github.com/m-bain/whisperx.git"
      ]
    },
    {
      "cell_type": "code",
      "source": [
        "from stxtmdl import *\n",
        "from gettxtinference import *"
      ],
      "metadata": {
        "id": "OCcpeWkkyk84"
      },
      "execution_count": 26,
      "outputs": []
    },
    {
      "cell_type": "markdown",
      "source": [],
      "metadata": {
        "id": "UpFIgB5WpvWx"
      }
    },
    {
      "cell_type": "code",
      "source": [
        "transcriptionresult = load_model_and_transcribe(\"/content/BQ3-24-Earnings-Call.mp3\")"
      ],
      "metadata": {
        "colab": {
          "base_uri": "https://localhost:8080/"
        },
        "id": "qNg6PZxh16Hm",
        "outputId": "99d52aa1-979a-4168-fa12-f29036f5ce49"
      },
      "execution_count": 19,
      "outputs": [
        {
          "output_type": "stream",
          "name": "stderr",
          "text": [
            "INFO:pytorch_lightning.utilities.migration.utils:Lightning automatically upgraded your loaded checkpoint from v1.5.4 to v2.5.0.post0. To apply the upgrade to your files permanently, run `python -m pytorch_lightning.utilities.upgrade_checkpoint ../usr/local/lib/python3.10/dist-packages/whisperx/assets/pytorch_model.bin`\n"
          ]
        },
        {
          "output_type": "stream",
          "name": "stdout",
          "text": [
            "No language specified, language will be first be detected for each audio file (increases inference time).\n",
            ">>Performing voice activity detection using Pyannote...\n",
            "Model was trained with pyannote.audio 0.0.1, yours is 3.3.2. Bad things might happen unless you revert pyannote.audio to 0.x.\n",
            "Model was trained with torch 1.10.0+cu102, yours is 2.5.1+cu121. Bad things might happen unless you revert torch to 1.x.\n",
            "Duration in minutes: 0:00:00.470903\n"
          ]
        }
      ]
    },
    {
      "cell_type": "code",
      "source": [
        "cmpltetrasncript = getcompletetranscription(transcriptresult=transcriptionresult)"
      ],
      "metadata": {
        "id": "_VAgjRDH3XbY"
      },
      "execution_count": 21,
      "outputs": []
    },
    {
      "cell_type": "code",
      "source": [
        "cmpltetrasncript"
      ],
      "metadata": {
        "id": "MUIfR9PY3lQe"
      },
      "execution_count": null,
      "outputs": []
    },
    {
      "cell_type": "code",
      "source": [
        "savetranscriptasjson(cmpltetrasncript, filepath=\"cmpltetrasncript.json\")"
      ],
      "metadata": {
        "colab": {
          "base_uri": "https://localhost:8080/",
          "height": 35
        },
        "id": "g8jQrvhHXW0J",
        "outputId": "71305d0a-f891-45d8-e0a6-51c61fd6e585"
      },
      "execution_count": 27,
      "outputs": [
        {
          "output_type": "execute_result",
          "data": {
            "text/plain": [
              "'successful'"
            ],
            "application/vnd.google.colaboratory.intrinsic+json": {
              "type": "string"
            }
          },
          "metadata": {},
          "execution_count": 27
        }
      ]
    },
    {
      "cell_type": "markdown",
      "source": [],
      "metadata": {
        "id": "9BWhLnbM53RO"
      }
    },
    {
      "cell_type": "code",
      "source": [
        "context = \"The capital of India is Delhi\"\n",
        "question = \"What is the capital of France?\"\n",
        "result = get_response(context,question)"
      ],
      "metadata": {
        "colab": {
          "base_uri": "https://localhost:8080/"
        },
        "id": "99I0elVnSC-N",
        "outputId": "9345d2c9-691a-4513-a4d8-078493678898"
      },
      "execution_count": 30,
      "outputs": [
        {
          "output_type": "stream",
          "name": "stderr",
          "text": [
            "Setting `pad_token_id` to `eos_token_id`:128001 for open-end generation.\n"
          ]
        },
        {
          "output_type": "stream",
          "name": "stdout",
          "text": [
            "Observed modelid: meta-llama/Llama-3.2-1B-Instruct\n"
          ]
        }
      ]
    },
    {
      "cell_type": "code",
      "source": [
        "result"
      ],
      "metadata": {
        "colab": {
          "base_uri": "https://localhost:8080/",
          "height": 35
        },
        "id": "FKY6a_lwSXgA",
        "outputId": "ec8f6f51-838e-4720-a445-1bf0d03bef78"
      },
      "execution_count": 31,
      "outputs": [
        {
          "output_type": "execute_result",
          "data": {
            "text/plain": [
              "\"I don't know and I cannot provide any made up answers.\""
            ],
            "application/vnd.google.colaboratory.intrinsic+json": {
              "type": "string"
            }
          },
          "metadata": {},
          "execution_count": 31
        }
      ]
    },
    {
      "cell_type": "markdown",
      "source": [],
      "metadata": {
        "id": "AvrcZiye50s1"
      }
    },
    {
      "cell_type": "code",
      "source": [
        "result = get_response(context=cmpltetrasncript,question=\"Summarize the key business highlights observed in the conversation\")"
      ],
      "metadata": {
        "colab": {
          "base_uri": "https://localhost:8080/"
        },
        "id": "T8FT1Gfdhk55",
        "outputId": "80051586-c871-48a9-ffa3-ea9923efd9be"
      },
      "execution_count": 32,
      "outputs": [
        {
          "output_type": "stream",
          "name": "stderr",
          "text": [
            "Setting `pad_token_id` to `eos_token_id`:128001 for open-end generation.\n"
          ]
        },
        {
          "output_type": "stream",
          "name": "stdout",
          "text": [
            "Observed modelid: meta-llama/Llama-3.2-1B-Instruct\n"
          ]
        }
      ]
    },
    {
      "cell_type": "code",
      "source": [
        "result"
      ],
      "metadata": {
        "colab": {
          "base_uri": "https://localhost:8080/",
          "height": 268
        },
        "id": "LlIMgjPXLIJj",
        "outputId": "a5273010-2849-497c-cd60-2fbf34ababd9"
      },
      "execution_count": 33,
      "outputs": [
        {
          "output_type": "execute_result",
          "data": {
            "text/plain": [
              "'* Square delivered strong results in Q3 2024, with gross profit up 19% year-over-year to $2.25 billion, and gross profit margin up 21% year-over-year to 15.6%.\\n* Square delivered a significant increase in profitability, with adjusted operating income up 15% year-over-year to $1.1 billion.\\n* Cash App delivered strong results in Q3 2024, with gross profit up 13% year-over-year to $945 million, and gross profit margin up 14% year-over-year to 15.2%.\\n* Cash App delivered a significant increase in profitability, with adjusted operating income up 21% year-over-year to $1.4 billion.\\n* The company expects gross profit to grow 14% year-over-year to $2.31 billion in Q4 2024.\\n* The company expects gross profit to grow 15% year-over-year to $2.75 billion in 2025.\\n* The company expects to expand margins next year, with a goal of achieving a margin of 20% or higher.\\n* The company expects to see significant growth in Bitcoin, with the company planning to roll out a new feature that will allow users to buy and sell Bitcoin on the Cash App Card.\\n* The company expects to see significant growth in Afterpay, with the company planning to roll out a new feature that will allow users to buy and sell Afterpay on the Cash App Card.\\n* The company expects to see significant growth in its lending products, with the company planning to expand its lending ecosystem and offer new features and products to customers.\\n* The company expects to see significant growth in its partnerships, with the company planning to expand its partnerships with new merchants and enterprise customers.'"
            ],
            "application/vnd.google.colaboratory.intrinsic+json": {
              "type": "string"
            }
          },
          "metadata": {},
          "execution_count": 33
        }
      ]
    },
    {
      "cell_type": "code",
      "source": [
        "def responsewrapper(question,context=cmpltetrasncript):\n",
        "  result = get_response(context=context,question=question)\n",
        "  return result"
      ],
      "metadata": {
        "id": "X88e8oKQTcuw"
      },
      "execution_count": 36,
      "outputs": []
    },
    {
      "cell_type": "code",
      "source": [
        "print(responsewrapper(question=\"Give bullet summary of action items as observed in the conversation\"))"
      ],
      "metadata": {
        "colab": {
          "base_uri": "https://localhost:8080/"
        },
        "id": "f8R0JxUiYw9r",
        "outputId": "eba7093c-c15a-44c2-e120-b4f71cfade9c"
      },
      "execution_count": 37,
      "outputs": [
        {
          "output_type": "stream",
          "name": "stderr",
          "text": [
            "Setting `pad_token_id` to `eos_token_id`:128001 for open-end generation.\n"
          ]
        },
        {
          "output_type": "stream",
          "name": "stdout",
          "text": [
            "Observed modelid: meta-llama/Llama-3.2-1B-Instruct\n",
            "* The company is expected to deliver strong results across the company during the third quarter.\n",
            "* Gross profit was $2.25 billion, up 19% year-over-year, with 16% growth for Square and 21% growth for Cash App.\n",
            "* The company expects to see modestly improved growth in the fourth quarter relative to the third quarter and further acceleration in growth from current levels into 2025.\n",
            "* The company has completed its orders migration and is moving quickly to build out new features and products.\n",
            "* The company is expected to achieve Rule of 40 in 2026 and sustain it beyond that.\n",
            "* The company is committed to expanding margins on an adjusted operating income basis next year.\n",
            "* The company has a strong balance sheet with over $530 million in Bitcoin reserves.\n",
            "* The company is expected to see strong growth in 2025, with at least 15% gross profit growth and a mid-20% adjusted operating income margin.\n",
            "* The company is exploring new partnerships and initiatives, including a partnership with T-Mobile and a focus on simplicity and transparency in its products and services.\n",
            "* The company is committed to delivering high-quality products and services, including a focus on Bitcoin mining and a commitment to making it usable every day.\n"
          ]
        }
      ]
    },
    {
      "cell_type": "code",
      "source": [
        "responsewrapper(question=\"How the company is expecting to drive paycheck deposit adoption\")"
      ],
      "metadata": {
        "colab": {
          "base_uri": "https://localhost:8080/",
          "height": 160
        },
        "id": "aRDY7EpRZCE1",
        "outputId": "48a0376e-cbe5-4b61-acae-cfb84b331325"
      },
      "execution_count": 38,
      "outputs": [
        {
          "output_type": "stream",
          "name": "stderr",
          "text": [
            "Setting `pad_token_id` to `eos_token_id`:128001 for open-end generation.\n"
          ]
        },
        {
          "output_type": "stream",
          "name": "stdout",
          "text": [
            "Observed modelid: meta-llama/Llama-3.2-1B-Instruct\n"
          ]
        },
        {
          "output_type": "execute_result",
          "data": {
            "text/plain": [
              "\"We're planning to use Afterpay on Cash App Card to drive paycheck deposit adoption. We're going to use it as an incentive to drive paycheck deposit actives in 2025 across performance, marketing, brand awareness, and incentives. We've already started testing this out and it's been very encouraging. We've seen strong engagement and uplift in customers setting up direct deposit through the Afterpay feature. And Cash App Card is a great tool for driving direct deposit, because it allows people to easily access and use their direct deposit. We're excited about the potential here and we think it will be a great way to drive paycheck deposit adoption.\""
            ],
            "application/vnd.google.colaboratory.intrinsic+json": {
              "type": "string"
            }
          },
          "metadata": {},
          "execution_count": 38
        }
      ]
    },
    {
      "cell_type": "code",
      "source": [
        "responsewrapper(question=\"comment on the go-to-market initiatives as mentioned in the conversation in bullet points\")"
      ],
      "metadata": {
        "colab": {
          "base_uri": "https://localhost:8080/",
          "height": 268
        },
        "id": "xVTh5jQsZvw3",
        "outputId": "3474fdea-e427-4150-fdf9-764fe181cc72"
      },
      "execution_count": 44,
      "outputs": [
        {
          "output_type": "stream",
          "name": "stderr",
          "text": [
            "Setting `pad_token_id` to `eos_token_id`:128001 for open-end generation.\n"
          ]
        },
        {
          "output_type": "stream",
          "name": "stdout",
          "text": [
            "Observed modelid: meta-llama/Llama-3.2-1B-Instruct\n"
          ]
        },
        {
          "output_type": "execute_result",
          "data": {
            "text/plain": [
              "\"* We're planning to scale the go-to-market spend for Cash App Borrow to drive direct deposit adoption.\\n* We're testing access to borrow as a way to drive direct deposit, paycheck deposit actives.\\n* We're bringing greater visibility to these benefits in the app.\\n* We're testing the in-app experience for direct deposit.\\n* We're starting with a limited rollout of the Cash App Card and expanding it over time.\\n* We're scaling the retroactive offer for Cash App Card afterpay.\\n* We're expanding the number of customers eligible for Cash App Card afterpay.\\n* We're exploring partnerships with new enterprise merchants to drive adoption.\\n* We're adding more partnerships with new merchants.\\n* We're planning to roll out Afterpay on the Cash App Card.\\n* We're scaling the marketing efforts for Afterpay on the Cash App Card.\\n* We're exploring new ways to drive engagement and monetization for Afterpay on the Cash App Card.\\n* We're considering expanding the monetization rate for Afterpay on the Cash App Card.\\n* We're planning to roll out the Bitcoin mining initiative as a new product.\\n* We're exploring new ways to drive engagement and monetization for the Bitcoin mining initiative.\\n* We're considering expanding the monetization rate for the Bitcoin mining initiative.\\n* We're planning to scale the Bitcoin mining initiative as a new product.\""
            ],
            "application/vnd.google.colaboratory.intrinsic+json": {
              "type": "string"
            }
          },
          "metadata": {},
          "execution_count": 44
        }
      ]
    },
    {
      "cell_type": "code",
      "source": [
        "responsewrapper(question=\"comment on the ecosystem of lending products as mentioned in the conversation in bullet points\")"
      ],
      "metadata": {
        "colab": {
          "base_uri": "https://localhost:8080/",
          "height": 125
        },
        "id": "oc7gjXRFbsvn",
        "outputId": "35b94a35-d006-46e3-e38f-39cf699a9a13"
      },
      "execution_count": 45,
      "outputs": [
        {
          "output_type": "stream",
          "name": "stderr",
          "text": [
            "Setting `pad_token_id` to `eos_token_id`:128001 for open-end generation.\n"
          ]
        },
        {
          "output_type": "stream",
          "name": "stdout",
          "text": [
            "Observed modelid: meta-llama/Llama-3.2-1B-Instruct\n"
          ]
        },
        {
          "output_type": "execute_result",
          "data": {
            "text/plain": [
              "\"* Square lending products:\\n\\t+ Square Capital\\n\\t+ Cash App lending\\n\\t+ Cash App Borrow\\n* Cash App lending products:\\n\\t+ Cash App Card\\n\\t+ Cash App Pay\\n* Other lending products mentioned:\\n\\t+ Afterpay on Cash App Card\\n* Note: The conversation did not provide a comprehensive overview of the lending products' ecosystem, but rather highlighted specific products mentioned in the call.\""
            ],
            "application/vnd.google.colaboratory.intrinsic+json": {
              "type": "string"
            }
          },
          "metadata": {},
          "execution_count": 45
        }
      ]
    },
    {
      "cell_type": "code",
      "source": [
        "responsewrapper(question=\"What was the growth profit for Cash App?\")"
      ],
      "metadata": {
        "colab": {
          "base_uri": "https://localhost:8080/",
          "height": 196
        },
        "id": "3GGDHO1pb4-C",
        "outputId": "73c4f290-8d62-4a83-f51b-683baa1b0d31"
      },
      "execution_count": 56,
      "outputs": [
        {
          "output_type": "stream",
          "name": "stderr",
          "text": [
            "Setting `pad_token_id` to `eos_token_id`:128001 for open-end generation.\n"
          ]
        },
        {
          "output_type": "stream",
          "name": "stdout",
          "text": [
            "Observed modelid: meta-llama/Llama-3.2-1B-Instruct\n"
          ]
        },
        {
          "output_type": "execute_result",
          "data": {
            "text/plain": [
              "'Cash App delivered strong results across the company during the third quarter. Gross profit was $2.25 billion, up 19% year-over-year, with 16% growth for Square and 21% growth for Cash App. We delivered a significant increase in profitability on a year-over-year basis with meaningful margin improvement and our highest quarterly profitability ever for both adjusted operating income and adjusted EBITDA on a dollar and margin basis. For the 12 months Ending in September, adjusted free cash flow was $1.5 billion, compared to $945 million in the prior 12 months. For full year 2024, we have raised our guide on adjusted operating income and adjusted EBITDA, and we have maintained the gross profit guidance we outlined in August. For the fourth quarter of 2024, we expect gross profit of $2.31 billion, or 14% growth year over year.'"
            ],
            "application/vnd.google.colaboratory.intrinsic+json": {
              "type": "string"
            }
          },
          "metadata": {},
          "execution_count": 56
        }
      ]
    },
    {
      "cell_type": "code",
      "source": [
        "responsewrapper(question=\"Comment on fourth quarter guidance as cited in the conversation\")"
      ],
      "metadata": {
        "colab": {
          "base_uri": "https://localhost:8080/",
          "height": 214
        },
        "id": "C8AxAp3Hegw-",
        "outputId": "c9eed91f-1809-4b6e-86fc-b0dc96110253"
      },
      "execution_count": 59,
      "outputs": [
        {
          "output_type": "stream",
          "name": "stderr",
          "text": [
            "Setting `pad_token_id` to `eos_token_id`:128001 for open-end generation.\n"
          ]
        },
        {
          "output_type": "stream",
          "name": "stdout",
          "text": [
            "Observed modelid: meta-llama/Llama-3.2-1B-Instruct\n"
          ]
        },
        {
          "output_type": "execute_result",
          "data": {
            "text/plain": [
              "'The company expects gross profit of $2.31 billion in the fourth quarter of 2024, which is a 14% growth year-over-year. This growth is expected to be driven by modestly improved growth in Square U.S. GPV and international markets, as well as improved attach rates on paycheck deposits in Cash App.\\n\\nThe company is also expecting to see a significant improvement in margin growth in the fourth quarter, driven by better technology, increased productivity, and improved go-to-market strategies.\\n\\nThe company is raising its full-year 2024 guidance to a 15% gross profit margin, which is a 7-point improvement from 2023 and 4 points from 2024.\\n\\nThe company is also expecting to see a step up in sales and marketing for both Square and Cash App in 2025, driven by investments in technology and go-to-market strategies.\\n\\nThe company is also expecting to see a significant improvement in margin growth in 2025, driven by better technology, increased productivity, and improved go-to-market strategies.\\n\\nThe company is also expecting to see a step up in sales and marketing for both Square and Cash App in 2025, driven by investments in technology and go-to-market strategies.\\n\\nThe company is also expecting to see a significant improvement in margin growth in 2025, driven by better technology, increased productivity, and improved go-to-market strategies.\\n\\nThe company is also expecting to see a step up in sales and marketing for both Square and Cash App in 2025, driven by investments in technology and go-to-market strategies.\\n\\nThe company is also expecting to see a significant improvement in margin growth in 2025, driven by better technology, increased productivity, and improved go-to-market strategies.\\n\\nThe company is also expecting to see a step up in sales and marketing for both Square and Cash App in 2025, driven by investments in technology and go-to-market strategies.\\n\\nThe company is also expecting to see a significant improvement in margin growth in 2025, driven by better technology, increased productivity, and improved go-to-market strategies.\\n\\nThe company is also expecting to see a step up in sales and marketing for both Square and Cash App in 2025, driven by investments in technology and go-to-market strategies.\\n\\nThe company is also expecting to see a significant improvement in margin growth in 2025, driven by better technology, increased productivity, and improved go-to-market strategies.\\n\\nThe company is also expecting to see a step up in sales and marketing for both Square and Cash App in 2025, driven by'"
            ],
            "application/vnd.google.colaboratory.intrinsic+json": {
              "type": "string"
            }
          },
          "metadata": {},
          "execution_count": 59
        }
      ]
    },
    {
      "cell_type": "code",
      "source": [
        "responsewrapper(question=\"What is the largest gross profit revenue stream of the company as cited in the conversation?\")"
      ],
      "metadata": {
        "colab": {
          "base_uri": "https://localhost:8080/",
          "height": 71
        },
        "id": "dEqf5pCZdcSm",
        "outputId": "786d70a4-f47f-4e4d-9e68-9845cfad7dcc"
      },
      "execution_count": 61,
      "outputs": [
        {
          "output_type": "stream",
          "name": "stderr",
          "text": [
            "Setting `pad_token_id` to `eos_token_id`:128001 for open-end generation.\n"
          ]
        },
        {
          "output_type": "stream",
          "name": "stdout",
          "text": [
            "Observed modelid: meta-llama/Llama-3.2-1B-Instruct\n"
          ]
        },
        {
          "output_type": "execute_result",
          "data": {
            "text/plain": [
              "'Cash App Card is the largest gross profit revenue stream of the company.'"
            ],
            "application/vnd.google.colaboratory.intrinsic+json": {
              "type": "string"
            }
          },
          "metadata": {},
          "execution_count": 61
        }
      ]
    },
    {
      "cell_type": "code",
      "source": [
        "responsewrapper(question=\"Comment on the product velocity perspective as cited in the conversation?\")"
      ],
      "metadata": {
        "colab": {
          "base_uri": "https://localhost:8080/",
          "height": 160
        },
        "id": "9ZXUHuSpgF3o",
        "outputId": "702762d4-e7d3-4661-9b26-74b05592f44f"
      },
      "execution_count": 64,
      "outputs": [
        {
          "output_type": "stream",
          "name": "stderr",
          "text": [
            "Setting `pad_token_id` to `eos_token_id`:128001 for open-end generation.\n"
          ]
        },
        {
          "output_type": "stream",
          "name": "stdout",
          "text": [
            "Observed modelid: meta-llama/Llama-3.2-1B-Instruct\n"
          ]
        },
        {
          "output_type": "execute_result",
          "data": {
            "text/plain": [
              "\"I'd say that the product velocity perspective is really exciting and promising, and it's a key area of focus for us. We're seeing a lot of progress and momentum in terms of the go-to-market efforts, the product development, and the testing. We're investing heavily in building out new features, enhancing existing ones, and scaling up our go-to-market spend. This is all aimed at driving growth, improving profitability, and ultimately achieving our goals of achieving Rule of 40 in 2026. We're seeing a lot of early signs of success, and we're confident that this approach will pay off in the long run.\""
            ],
            "application/vnd.google.colaboratory.intrinsic+json": {
              "type": "string"
            }
          },
          "metadata": {},
          "execution_count": 64
        }
      ]
    },
    {
      "cell_type": "code",
      "source": [
        "responsewrapper(question=\"what is the preliminary guidance for 2025 as cited in the conversation?\")"
      ],
      "metadata": {
        "colab": {
          "base_uri": "https://localhost:8080/",
          "height": 160
        },
        "id": "2yLmhZOzgwbS",
        "outputId": "cb2aaeab-f9de-4797-9331-382f866a62e7"
      },
      "execution_count": 67,
      "outputs": [
        {
          "output_type": "stream",
          "name": "stderr",
          "text": [
            "Setting `pad_token_id` to `eos_token_id`:128001 for open-end generation.\n"
          ]
        },
        {
          "output_type": "stream",
          "name": "stdout",
          "text": [
            "Observed modelid: meta-llama/Llama-3.2-1B-Instruct\n"
          ]
        },
        {
          "output_type": "execute_result",
          "data": {
            "text/plain": [
              "'- For Square, the preliminary guidance for 2025 includes Rule of 40, with a significant improvement of six points compared to 2023 and seven points compared to 2024, implying gross profit growth of at least 15% and adjusted operating income margin of at least mid-teens.\\n- For Cash App, the preliminary guidance for 2025 includes a step up in sales and marketing, with plans for a more significant expansion of Cash App Borrow into new customer segments and a focus on improving retention and cross-selling across customer cohorts. The guidance also implies growth in gross profit of at least 15% and adjusted operating income margin of mid-20%.'"
            ],
            "application/vnd.google.colaboratory.intrinsic+json": {
              "type": "string"
            }
          },
          "metadata": {},
          "execution_count": 67
        }
      ]
    },
    {
      "cell_type": "code",
      "source": [
        "responsewrapper(question=\"How the company builds resilience and redundancy?\")"
      ],
      "metadata": {
        "colab": {
          "base_uri": "https://localhost:8080/",
          "height": 125
        },
        "id": "LUiPiBFdfums",
        "outputId": "36a3739d-b9eb-4975-c190-042513844153"
      },
      "execution_count": 62,
      "outputs": [
        {
          "output_type": "stream",
          "name": "stderr",
          "text": [
            "Setting `pad_token_id` to `eos_token_id`:128001 for open-end generation.\n"
          ]
        },
        {
          "output_type": "stream",
          "name": "stdout",
          "text": [
            "Observed modelid: meta-llama/Llama-3.2-1B-Instruct\n"
          ]
        },
        {
          "output_type": "execute_result",
          "data": {
            "text/plain": [
              "'The company has onboarded a number of new partners as they are building resilience and redundancy across key parts of the platform. This includes the development of new products and services, as well as the scaling of existing ones. This is a key part of their strategy to ensure that they can continue to meet customer needs and grow their business even in the face of regulatory challenges or other disruptions.'"
            ],
            "application/vnd.google.colaboratory.intrinsic+json": {
              "type": "string"
            }
          },
          "metadata": {},
          "execution_count": 62
        }
      ]
    },
    {
      "cell_type": "code",
      "source": [
        "responsewrapper(question=\"comment on the partner benefits how it would be beneficial for the company?\")"
      ],
      "metadata": {
        "colab": {
          "base_uri": "https://localhost:8080/",
          "height": 125
        },
        "id": "iG_oi08Phhr9",
        "outputId": "0f73cf90-c308-40e4-93a5-af3de96ad6ea"
      },
      "execution_count": 68,
      "outputs": [
        {
          "output_type": "stream",
          "name": "stderr",
          "text": [
            "Setting `pad_token_id` to `eos_token_id`:128001 for open-end generation.\n"
          ]
        },
        {
          "output_type": "stream",
          "name": "stdout",
          "text": [
            "Observed modelid: meta-llama/Llama-3.2-1B-Instruct\n"
          ]
        },
        {
          "output_type": "execute_result",
          "data": {
            "text/plain": [
              "\"Jack: We had a partner benefit that we were expecting to land in Q4 that would benefit our transaction costs, and we now expect them to land during 2025. From a marketing perspective, we're excited to see how this will drive activity and adoption for our products. We're also excited about the opportunity to scale this benefit across our customer base, including new customers, as we continue to grow and expand our product offerings.\""
            ],
            "application/vnd.google.colaboratory.intrinsic+json": {
              "type": "string"
            }
          },
          "metadata": {},
          "execution_count": 68
        }
      ]
    },
    {
      "cell_type": "code",
      "source": [
        "responsewrapper(question=\"comment on the partner benefits as explained by Amrita?\")"
      ],
      "metadata": {
        "colab": {
          "base_uri": "https://localhost:8080/",
          "height": 89
        },
        "id": "zWv1Ks7Di8Zm",
        "outputId": "9f8f2b27-363a-4251-98b3-dd8bb2fc6987"
      },
      "execution_count": 70,
      "outputs": [
        {
          "output_type": "stream",
          "name": "stderr",
          "text": [
            "Setting `pad_token_id` to `eos_token_id`:128001 for open-end generation.\n"
          ]
        },
        {
          "output_type": "stream",
          "name": "stdout",
          "text": [
            "Observed modelid: meta-llama/Llama-3.2-1B-Instruct\n"
          ]
        },
        {
          "output_type": "execute_result",
          "data": {
            "text/plain": [
              "\"We've seen some partner benefits that we had expected to land in Q4, which will benefit our transaction costs. We've been working on this and we now expect them to land during 2025.\""
            ],
            "application/vnd.google.colaboratory.intrinsic+json": {
              "type": "string"
            }
          },
          "metadata": {},
          "execution_count": 70
        }
      ]
    },
    {
      "cell_type": "code",
      "source": [
        "responsewrapper(question=\"comment on growth from an engagement perspective as cited in the conversation?\")"
      ],
      "metadata": {
        "colab": {
          "base_uri": "https://localhost:8080/",
          "height": 89
        },
        "id": "GoyzdoSqje4U",
        "outputId": "a2198246-604c-4998-bbb2-3c9d1b284178"
      },
      "execution_count": 71,
      "outputs": [
        {
          "output_type": "stream",
          "name": "stderr",
          "text": [
            "Setting `pad_token_id` to `eos_token_id`:128001 for open-end generation.\n"
          ]
        },
        {
          "output_type": "stream",
          "name": "stdout",
          "text": [
            "Observed modelid: meta-llama/Llama-3.2-1B-Instruct\n"
          ]
        },
        {
          "output_type": "execute_result",
          "data": {
            "text/plain": [
              "'The growth in engagement from an active perspective has been encouraging, with a 19% growth in active space among the active space, and a 15% growth in active space in the 12 months ending September.'"
            ],
            "application/vnd.google.colaboratory.intrinsic+json": {
              "type": "string"
            }
          },
          "metadata": {},
          "execution_count": 71
        }
      ]
    },
    {
      "cell_type": "code",
      "source": [
        "responsewrapper(question=\"briefly comment on block bitcoin strategy as cited in the conversation?\")"
      ],
      "metadata": {
        "colab": {
          "base_uri": "https://localhost:8080/",
          "height": 160
        },
        "id": "ffywfOyflZgJ",
        "outputId": "37c4af36-1f5a-4b20-85f9-20211f856c44"
      },
      "execution_count": 75,
      "outputs": [
        {
          "output_type": "stream",
          "name": "stderr",
          "text": [
            "Setting `pad_token_id` to `eos_token_id`:128001 for open-end generation.\n"
          ]
        },
        {
          "output_type": "stream",
          "name": "stdout",
          "text": [
            "Observed modelid: meta-llama/Llama-3.2-1B-Instruct\n"
          ]
        },
        {
          "output_type": "execute_result",
          "data": {
            "text/plain": [
              "\"The block bitcoin strategy is a key focus for Square, as we want to make Bitcoin more accessible to the internet, accelerate business, and drive growth. We want to make sure that more people can access Bitcoin, buy, sell it, and use it as a payment method. We're focused on making it more secure, and we want to make sure that the network is robust and reliable. We're also focusing on technology to make sure that we can offer this to as many people as possible, with transparency and simplicity. We're excited about the potential for Bitcoin to complement our existing products and drive growth.\""
            ],
            "application/vnd.google.colaboratory.intrinsic+json": {
              "type": "string"
            }
          },
          "metadata": {},
          "execution_count": 75
        }
      ]
    },
    {
      "cell_type": "code",
      "source": [
        "responsewrapper(question=\"comment on the retroactive offer cited in the conversation?\")"
      ],
      "metadata": {
        "colab": {
          "base_uri": "https://localhost:8080/",
          "height": 160
        },
        "id": "JJnuXt7Im3OP",
        "outputId": "c6a2418d-b362-4fe1-8cc3-76fa812cddce"
      },
      "execution_count": 79,
      "outputs": [
        {
          "output_type": "stream",
          "name": "stderr",
          "text": [
            "Setting `pad_token_id` to `eos_token_id`:128001 for open-end generation.\n"
          ]
        },
        {
          "output_type": "stream",
          "name": "stdout",
          "text": [
            "Observed modelid: meta-llama/Llama-3.2-1B-Instruct\n"
          ]
        },
        {
          "output_type": "execute_result",
          "data": {
            "text/plain": [
              "\"We're being deliberate both in terms of the use cases that we roll out, the number of customers that we make eligible, and then looking to see how that conversion plays out over time with an eye towards ramping eligibility and conversion as we go throughout time.\\nThe retroactive offer is a way to allow customers to retroactively pay in four after making a purchase, and then expand to allow customers to turn on after pay before making a purchase. The company is being deliberate in terms of the use cases that they roll out, the number of customers that they make eligible, and then looking to see how that conversion plays out over time.\""
            ],
            "application/vnd.google.colaboratory.intrinsic+json": {
              "type": "string"
            }
          },
          "metadata": {},
          "execution_count": 79
        }
      ]
    },
    {
      "cell_type": "code",
      "source": [
        "responsewrapper(question=\"comment on Cash App monetization as cited in the conversation?\")"
      ],
      "metadata": {
        "colab": {
          "base_uri": "https://localhost:8080/",
          "height": 160
        },
        "id": "OKKb2zj-orhl",
        "outputId": "dd2d32b2-a058-4cf3-b222-8908d613d9ac"
      },
      "execution_count": 80,
      "outputs": [
        {
          "output_type": "stream",
          "name": "stderr",
          "text": [
            "Setting `pad_token_id` to `eos_token_id`:128001 for open-end generation.\n"
          ]
        },
        {
          "output_type": "stream",
          "name": "stdout",
          "text": [
            "Observed modelid: meta-llama/Llama-3.2-1B-Instruct\n"
          ]
        },
        {
          "output_type": "execute_result",
          "data": {
            "text/plain": [
              "\"The company has seen strong monetization trends across various products, including Cash App Card, Borrow, Buy Now, Pay Later, and Cash App Pay. Cash App Card has become a daily utility for monthly active users, with an average of six transactions per week. Borrow and Buy Now, Pay Later have also seen strong growth, with gross profit up more than two times year-over-year in the third quarter. Cash App Pay has also shown significant momentum, with monthly actives surpassing Afterpay's North American active. The company is using these trends to drive marketing and growth, with plans to expand its marketing efforts in 2025.\""
            ],
            "application/vnd.google.colaboratory.intrinsic+json": {
              "type": "string"
            }
          },
          "metadata": {},
          "execution_count": 80
        }
      ]
    }
  ],
  "metadata": {
    "colab": {
      "provenance": [],
      "machine_shape": "hm",
      "gpuType": "A100"
    },
    "kernelspec": {
      "display_name": "Python 3",
      "name": "python3"
    },
    "language_info": {
      "name": "python"
    },
    "accelerator": "GPU"
  },
  "nbformat": 4,
  "nbformat_minor": 0
}